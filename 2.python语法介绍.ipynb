{
 "cells": [
  {
   "cell_type": "markdown",
   "id": "d53e5d0d",
   "metadata": {},
   "source": [
    "## python 语法介绍"
   ]
  },
  {
   "cell_type": "markdown",
   "id": "6ece3e33",
   "metadata": {},
   "source": [
    "### python2 和python3\n",
    "我们学某一种语言，一定要学会它的语法，就像学习英语语法一样。幸运的是，程序语言的语法比英语要简单多了。\n",
    "\n",
    "需要注意的是，目前python有两个版本，一个是python2、一个是python3。  \n",
    "\n",
    "其实python2已经不算主流版本了，但未来也许你还是能遇见一小部分使用python2的程序。\n",
    "\n",
    "python2和python3的语法有一些差别，为了简单，我们主要学习python3，python3相比于python2做了很多优化，更易懂的语法，更快的执行效率。\n",
    "\n",
    "技术这个玩意，学新不学旧，学python3就对了（文本编写期间，已经更新到python3.11）\n",
    "\n",
    "执行以下代码可以查看本环境使用的python版本，本实验环境是python3.9.7："
   ]
  },
  {
   "cell_type": "code",
   "execution_count": null,
   "id": "4e117a24",
   "metadata": {},
   "outputs": [],
   "source": [
    "import sys\n",
    "print(sys.version)"
   ]
  },
  {
   "cell_type": "markdown",
   "id": "f8d3a005",
   "metadata": {},
   "source": [
    "## 变量的语法"
   ]
  },
  {
   "cell_type": "markdown",
   "id": "c288c75c",
   "metadata": {},
   "source": [
    "程序中的“变量”，可以理解为存储信息的单位，就像一个里面放了数据的带标记的盒子一样。\n",
    "\n",
    "学习变量的最终境界，就是明白以下几个事情：\n",
    "\n",
    "1、程序里的数据就想上一节说的，在运行时，都是放在内存里的，不管多大或者多小。  \n",
    "2、变量只是一个设定了指向某一处内存的“标记”，用这个“标记”来引用内存里存放的数据。  \n",
    "3、更改变量时，要理解是更新的内存，还是更新了“标记”。  \n",
    "\n",
    "如果你已经读明白了，那就可以直接下一章了，如果还有点模糊，我们就用下面几个实验帮助我们理解"
   ]
  },
  {
   "cell_type": "markdown",
   "id": "36575360",
   "metadata": {},
   "source": [
    "对于初学者来说，首先我们要熟悉 “=” 这个符号，这等号不表示左右相等，而是表示:\n",
    "\n",
    "**“把右边的内容放到一个内存里，然后用左边引用它”** \n",
    "\n",
    "比如"
   ]
  },
  {
   "cell_type": "code",
   "execution_count": null,
   "id": "e42d5976",
   "metadata": {},
   "outputs": [],
   "source": [
    "a = 11"
   ]
  },
  {
   "attachments": {
    "%E6%9C%AA%E5%91%BD%E5%90%8D-2.gif": {
     "image/gif": "[encoded data removed]"
    }
   },
   "cell_type": "markdown",
   "id": "52448420",
   "metadata": {},
   "source": [
    "![%E6%9C%AA%E5%91%BD%E5%90%8D-2.gif](attachment:%E6%9C%AA%E5%91%BD%E5%90%8D-2.gif)"
   ]
  },
  {
   "cell_type": "markdown",
   "id": "0158f9e2",
   "metadata": {},
   "source": [
    "经过上面这一步之后，当你引用变量a的时候，就会获得11这个值."
   ]
  },
  {
   "cell_type": "code",
   "execution_count": null,
   "id": "17550edd",
   "metadata": {},
   "outputs": [],
   "source": [
    "print(a)"
   ]
  },
  {
   "cell_type": "markdown",
   "id": "ab5d5d02",
   "metadata": {},
   "source": [
    "当然你可以用变量引用其他类型的数据，比如布尔值、字符串、列表、字典等，这些我们后面慢慢介绍"
   ]
  },
  {
   "cell_type": "code",
   "execution_count": null,
   "id": "a6e5549a",
   "metadata": {},
   "outputs": [],
   "source": [
    "a = True\n",
    "print(a)\n",
    "\n",
    "a = \"hello world\"\n",
    "print(a)\n",
    "\n",
    "a = [1,2,3]\n",
    "print(a)\n",
    "\n",
    "a = {\"k\":\"v\"}\n",
    "print(a)"
   ]
  },
  {
   "cell_type": "markdown",
   "id": "fe5d9ec8",
   "metadata": {},
   "source": [
    "## 注释的用法\n",
    "\n",
    "有时候我们在代码里想记录一些什么，或者想取消一些语句的功能，但有不想直接删除这部分代码，我们就会用到注释  \n",
    "\n",
    "在代码里被注释的语句都不会被执行。"
   ]
  },
  {
   "cell_type": "markdown",
   "id": "75eca683",
   "metadata": {},
   "source": [
    "### 单行注释\n",
    "\n",
    "在行首插入井号—— “#”，则当前行不会被执行"
   ]
  },
  {
   "cell_type": "code",
   "execution_count": null,
   "id": "a04600e1",
   "metadata": {},
   "outputs": [],
   "source": [
    "print(\"a\")\n",
    "#print(\"b\")\n",
    "print(\"c\")"
   ]
  },
  {
   "cell_type": "markdown",
   "id": "59d233de",
   "metadata": {},
   "source": [
    "### 多行注释\n",
    "\n",
    "在想要注释的代码段前后加入三个单引号 ——“'''”，中间的部分不会被执行"
   ]
  },
  {
   "cell_type": "code",
   "execution_count": null,
   "id": "1241d5c3",
   "metadata": {},
   "outputs": [],
   "source": [
    "'''\n",
    "for i in range (10):\n",
    "    print(i)\n",
    "'''\n",
    "print(\"10\")"
   ]
  },
  {
   "cell_type": "markdown",
   "id": "fdcdc1fa",
   "metadata": {},
   "source": [
    "## Python 缩进规则"
   ]
  },
  {
   "cell_type": "markdown",
   "id": "bb80f9aa",
   "metadata": {},
   "source": [
    "很多时候，在代码控制流程的时候，需要体现一些包含关系，在其他编程语言中，常用{}来表达这种关系，但在python中，一律用缩进格式表达：\n",
    "python里的缩进要求很严，最好统一用4个空格，不要用tab，不然容易出现混淆的错误。\n",
    "\n",
    "比如我们有这样一个逻辑：\n",
    "\n",
    "小明考试分数出来了，如果分数大于80分，就奖励一瓶可乐，如果是大于80分，就奖励一瓶可乐，外加一瓶雪碧:\n",
    "\n",
    "如果你这么写："
   ]
  },
  {
   "cell_type": "code",
   "execution_count": null,
   "id": "f93b91e2",
   "metadata": {},
   "outputs": [],
   "source": [
    "score = 85\n",
    "\n",
    "if score > 80:\n",
    "    print(\"奖励一瓶可乐\")\n",
    "elif score >90:\n",
    "    print(\"奖励一瓶可乐\")\n",
    "print(\"再奖励一瓶雪碧\")"
   ]
  },
  {
   "cell_type": "markdown",
   "id": "b97e2230",
   "metadata": {},
   "source": [
    "你会发现，读上去没什么逻辑问题，但运行后会出现问题，不管分数多少，都会得到\"再奖励一瓶雪碧\"\n",
    "\n",
    "真正的写法应该是下面这样，正确的缩进格式表达了正确的逻辑关系。"
   ]
  },
  {
   "cell_type": "code",
   "execution_count": null,
   "id": "357db476",
   "metadata": {},
   "outputs": [],
   "source": [
    "score = 85\n",
    "\n",
    "if score > 80:\n",
    "    print(\"奖励一瓶可乐\")\n",
    "elif score >90:\n",
    "    print(\"奖励一瓶可乐\")\n",
    "    print(\"再奖励一瓶雪碧\")"
   ]
  },
  {
   "cell_type": "markdown",
   "id": "301d2dac",
   "metadata": {},
   "source": [
    "这是很多初学者都会犯的错误，请一定注意"
   ]
  },
  {
   "cell_type": "markdown",
   "id": "b5961fc8",
   "metadata": {},
   "source": [
    "># 进阶\n",
    "变量的进阶学习\n",
    "\n",
    "上面说了，变量其实只是一个“标记”，指向了他所引用的数据。\n",
    "\n",
    "那当我们做一些复杂操作时，变量究竟是如何工作的呢？\n",
    "\n",
    "你能猜到下面的输出么？\n"
   ]
  },
  {
   "cell_type": "code",
   "execution_count": null,
   "id": "e2be9437",
   "metadata": {},
   "outputs": [],
   "source": [
    "a =11\n",
    "b = a\n",
    "# print(id(a))\n",
    "# print(id(b))\n",
    "a = a+1\n",
    "# print(id(a))\n",
    "# print(id(b))\n",
    "print(a,b)"
   ]
  },
  {
   "cell_type": "markdown",
   "id": "d17838dd",
   "metadata": {},
   "source": [
    "上面id( )这个函数是获取这个变量的地址，你也可以放开注释，看看是什么输出\n",
    "\n",
    "下面还有一个例子，看看你能发现其中的规律么？"
   ]
  },
  {
   "cell_type": "code",
   "execution_count": null,
   "id": "e0285553",
   "metadata": {},
   "outputs": [],
   "source": [
    "a = [1,2,3]\n",
    "b = a\n",
    "a[2]=4\n",
    "print(a,b)"
   ]
  },
  {
   "cell_type": "markdown",
   "id": "2cd6428e",
   "metadata": {},
   "source": [
    "最后我会用两个动画图片展示一下我的理解过程，看看我们是否理解一致？"
   ]
  }
 ],
 "metadata": {
  "kernelspec": {
   "display_name": "Python 3 (ipykernel)",
   "language": "python",
   "name": "python3"
  },
  "language_info": {
   "codemirror_mode": {
    "name": "ipython",
    "version": 3
   },
   "file_extension": ".py",
   "mimetype": "text/x-python",
   "name": "python",
   "nbconvert_exporter": "python",
   "pygments_lexer": "ipython3",
   "version": "3.9.7"
  }
 },
 "nbformat": 4,
 "nbformat_minor": 5
}

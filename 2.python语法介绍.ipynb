{
 "cells": [
  {
   "cell_type": "markdown",
   "id": "d53e5d0d",
   "metadata": {},
   "source": [
    "## python 2和3的区别"
   ]
  },
  {
   "cell_type": "markdown",
   "id": "6ece3e33",
   "metadata": {},
   "source": [
    "我们学某一种语言，一定要学会它的语法，就像学习英语语法一样。幸运的是，程序语言的语法比英语要简单多了。\n",
    "\n",
    "需要注意的是，目前python有两个版本，一个是python2、一个是python3。  \n",
    "\n",
    "其实python2已经不算主流版本了，但未来也许你还是能遇见一小部分使用python2的程序。\n",
    "\n",
    "python2和python3的语法有一些差别，为了简单，我们主要学习python3，python3相比于python2做了很多优化，更易懂的语法，更快的执行效率。\n",
    "\n",
    "技术这个玩意，学新不学旧，学python3就对了（文本编写期间，已经更新到python3.11）"
   ]
  },
  {
   "cell_type": "markdown",
   "id": "0f28adb3",
   "metadata": {},
   "source": [
    "执行以下代码可以查看本环境使用的python版本，本实验环境是python3.9.7："
   ]
  },
  {
   "cell_type": "code",
   "execution_count": 2,
   "id": "4e117a24",
   "metadata": {},
   "outputs": [
    {
     "name": "stdout",
     "output_type": "stream",
     "text": [
      "3.9.7 | packaged by conda-forge | (default, Sep 29 2021, 19:20:46) \n",
      "[GCC 9.4.0]\n"
     ]
    }
   ],
   "source": [
    "import sys\n",
    "print(sys.version)"
   ]
  },
  {
   "cell_type": "markdown",
   "id": "f8d3a005",
   "metadata": {},
   "source": [
    "## 变量的语法"
   ]
  },
  {
   "cell_type": "markdown",
   "id": "c288c75c",
   "metadata": {},
   "source": [
    "程序中的“变量”，可以理解为存储信息的单位，就像一个里面放了数据的带标记的盒子一样。\n",
    "\n",
    "学习变量的最终境界，就是明白以下几个事情：\n",
    "\n",
    "1、程序里的数据都是存在内存里的，不管多大或者多小。\n",
    "2、变量只是一个设定了指向某一处内存的“标记”，用这个“标记”来引用内存里存放的数据。\n",
    "3、更改变量时，要理解是更新的内存，还是更新了“标记”。\n",
    "\n",
    "如果你已经读明白了，那就可以直接下一章了，如果还有点模糊，我们就用下面几个实验帮助我们理解"
   ]
  },
  {
   "cell_type": "code",
   "execution_count": null,
   "id": "3a1d9ed5",
   "metadata": {},
   "outputs": [],
   "source": []
  },
  {
   "cell_type": "code",
   "execution_count": 6,
   "id": "13cba361",
   "metadata": {},
   "outputs": [
    {
     "name": "stdout",
     "output_type": "stream",
     "text": [
      "hello world\n",
      "139621543963120\n",
      "139621543963120\n",
      "7 7\n",
      "139621543963152\n",
      "139621543963120\n",
      "8 7\n"
     ]
    }
   ],
   "source": [
    "\n",
    "a=7\n",
    "\n",
    "b=a\n",
    "print(id(a))\n",
    "print(id(b))\n",
    "print(a,b)\n",
    "a+=1\n",
    "print(id(a))\n",
    "print(id(b))\n",
    "print(a,b)"
   ]
  },
  {
   "cell_type": "code",
   "execution_count": 3,
   "id": "cac7fb4b",
   "metadata": {},
   "outputs": [
    {
     "name": "stdout",
     "output_type": "stream",
     "text": [
      "hello world\n"
     ]
    }
   ],
   "source": [
    "hi = \"hello world\"\n",
    "print (hi)"
   ]
  },
  {
   "cell_type": "markdown",
   "id": "fe5d9ec8",
   "metadata": {},
   "source": [
    "## 注释的用法\n",
    "\n",
    "单行注释\n",
    "\n",
    "多行注释\n"
   ]
  },
  {
   "cell_type": "markdown",
   "id": "fdcdc1fa",
   "metadata": {},
   "source": [
    "## Python 缩进规则"
   ]
  },
  {
   "cell_type": "code",
   "execution_count": null,
   "id": "43544950",
   "metadata": {},
   "outputs": [],
   "source": [
    "height=float(input(\"输入身高(m)：\")) #输入身高\n",
    "weight=float(input(\"输入体重(公斤)：\")) #输入体重\n",
    "bmi=weight/(height*height)       #计算BMI指数\n",
    "\n",
    "#判断身材是否合理\n",
    "if bmi<18.5:\n",
    "    #下面 2 行同属于 if 分支语句中包含的代码，因此属于同一作用域\n",
    "    print(\"BMI指数为：\"+str(bmi)) #输出BMI指数\n",
    "    print(\"体重过轻\")\n",
    "if bmi>=18.5 and bmi<24.9:\n",
    "    print(\"BMI指数为：\"+str(bmi)) #输出BMI指数\n",
    "    print(\"正常范围，注意保持\")\n",
    "if bmi>=24.9 and bmi<29.9:\n",
    "    print(\"BMI指数为：\"+str(bmi)) #输出BMI指数\n",
    "    print(\"体重过重\")\n",
    "if bmi>=29.9:\n",
    "    print(\"BMI指数为：\"+str(bmi)) #输出BMI指数\n",
    "    print(\"肥胖\")"
   ]
  },
  {
   "cell_type": "code",
   "execution_count": null,
   "id": "e2be9437",
   "metadata": {},
   "outputs": [],
   "source": []
  },
  {
   "cell_type": "code",
   "execution_count": 1,
   "id": "161f07cb",
   "metadata": {},
   "outputs": [
    {
     "name": "stdout",
     "output_type": "stream",
     "text": [
      "7 7\n",
      "8 7\n",
      "[1, 2, 3] [1, 2, 3]\n",
      "[1, 2, 4] [1, 2, 4]\n"
     ]
    }
   ],
   "source": [
    "a=11\n",
    "b=a\n",
    "print(a,b)\n",
    "a+=1\n",
    "print(a,b)\n",
    "\n",
    "a = [1,2,3]\n",
    "b = a\n",
    "print(a,b)\n",
    "a[2]=4\n",
    "print(a,b)"
   ]
  },
  {
   "attachments": {
    "%E6%9C%AA%E5%91%BD%E5%90%8D-2.gif": {
     "image/gif": "[encoded data removed]"
    }
   },
   "cell_type": "markdown",
   "id": "52448420",
   "metadata": {},
   "source": [
    "程序的最基础语法就是如何使用变量  \n",
    "首先需要知道的，就是变量有一些类型的区分，\n",
    "\n",
    "数字\n",
    "字符串\n",
    "![%E6%9C%AA%E5%91%BD%E5%90%8D-2.gif](attachment:%E6%9C%AA%E5%91%BD%E5%90%8D-2.gif)\n"
   ]
  },
  {
   "cell_type": "markdown",
   "id": "b5961fc8",
   "metadata": {},
   "source": [
    ">## 进阶\n",
    "变量的赋值"
   ]
  },
  {
   "cell_type": "code",
   "execution_count": null,
   "id": "4494f075",
   "metadata": {},
   "outputs": [],
   "source": []
  }
 ],
 "metadata": {
  "kernelspec": {
   "display_name": "Python 3 (ipykernel)",
   "language": "python",
   "name": "python3"
  },
  "language_info": {
   "codemirror_mode": {
    "name": "ipython",
    "version": 3
   },
   "file_extension": ".py",
   "mimetype": "text/x-python",
   "name": "python",
   "nbconvert_exporter": "python",
   "pygments_lexer": "ipython3",
   "version": "3.9.7"
  }
 },
 "nbformat": 4,
 "nbformat_minor": 5
}

{
 "cells": [
  {
   "cell_type": "markdown",
   "id": "8d6b5332",
   "metadata": {},
   "source": [
    "## 学会了就可以解决90%的问题的变量类型\n",
    "\n",
    "虽然我们生活中有很多种不同的信息类型，但在程序里，都可以通过最基础的这么几种类型来表示：\n",
    "\n",
    " - 数字 :int\n",
    " - 浮点数（小数）:float\n",
    " - 字符串 :str\n",
    " - 列表 :list\n",
    " - 字典 :dict"
   ]
  },
  {
   "cell_type": "markdown",
   "id": "74d8c255",
   "metadata": {},
   "source": [
    "不像其他语言，在定义变量是需要人工指定变量类型，python会自动判断你的变量类型并做正确的存储。运行以下代码试试（type()函数用于查看变量类型）"
   ]
  },
  {
   "cell_type": "code",
   "execution_count": null,
   "id": "26e25b26",
   "metadata": {},
   "outputs": [],
   "source": [
    "a = 1\n",
    "print(a,type(a))\n",
    "\n",
    "a = 1.0\n",
    "print(a,type(a))\n",
    "\n",
    "a = '1'\n",
    "print(a,type(a))\n",
    "\n",
    "a = [1]\n",
    "print(a,type(a))\n",
    "\n",
    "a = {1:1}\n",
    "print(a,type(a))"
   ]
  },
  {
   "cell_type": "markdown",
   "id": "cfc02771",
   "metadata": {},
   "source": [
    "从我自己的习惯上，我会把这些数据类型分成两类，一类是数学相关（int，float），一类是列表相关（str，list）：\n",
    "\n",
    "接下来，我们需要直观的感受下，每个数据类型可以如何操作：\n",
    "\n",
    "“+，-，*，/”一般都可以针对数学相关的变量进行操作，但对列表相关的就不一定有用，你可以自己试试："
   ]
  },
  {
   "cell_type": "markdown",
   "id": "a838d108",
   "metadata": {},
   "source": [
    "### 列表"
   ]
  },
  {
   "cell_type": "code",
   "execution_count": null,
   "id": "fb1f513d",
   "metadata": {},
   "outputs": [],
   "source": [
    "a = 1\n",
    "a = a+1\n",
    "print(a,type(a))\n",
    "\n",
    "\n",
    "a = 1.0\n",
    "a = a+1.0\n",
    "print(a,type(a))\n",
    "\n",
    "# a = '1'       #能用\n",
    "# a = a+\"23\"\n",
    "# print(a,type(a))\n",
    "\n",
    "\n",
    "# a = [1]       #能用\n",
    "# a = a+[2,3]\n",
    "# print(a,type(a))\n",
    "\n",
    "# a = {1:1}     #不能用\n",
    "# a = a+{2:2}\n",
    "# print(a,type(a))"
   ]
  },
  {
   "cell_type": "markdown",
   "id": "3dd776d1",
   "metadata": {},
   "source": [
    "另一方面 ，python的一个很重要的切片操作，就只适用于列表相关变量(字符串其实本质也是列表的一种)，可以很方便的截取列表变量的中间一部分，这可是python的独家秘笈，必须好好掌握:  \n",
    "\n",
    "完全的格式为 `list[start:stop:step]`\n",
    "\n",
    "start表示从哪里开始\n",
    "stop表示到哪里结束\n",
    "stop表示每一次前进几个元素\n",
    "\n",
    "具体的说明可以参照[这里](https://zhuanlan.zhihu.com/p/79541418)，示例如下：\n"
   ]
  },
  {
   "cell_type": "markdown",
   "id": "65a942f8",
   "metadata": {},
   "source": [
    "### 字符串"
   ]
  },
  {
   "cell_type": "code",
   "execution_count": null,
   "id": "bac9650c",
   "metadata": {},
   "outputs": [],
   "source": [
    "print(\"下面是字符串的示例\")\n",
    "a = 'hello,world'\n",
    "print(len(a))    #len()函数可以求得变量内元素的个数，也就是变量的长度\n",
    "print(a[1])      #取下标为1的元素的内容\n",
    "print(a[3:7])    #取下标为3到7的元素的内容\n",
    "print(a[3:7:2])  #从下标为3开始取，每次前进2，一直到下标为7的元素的内容\n",
    "print(a[7:3:-1]) #从下标为7开始取，每次后退1，一直到下标为3的元素的内容\n",
    "\n",
    "\n",
    "print(\"下面是列表的示例\")\n",
    "a = [1,2,3,4,5,6,7,8,9,10]\n",
    "print(len(a))\n",
    "print(a[1])\n",
    "print(a[3:7])\n",
    "print(a[3:7:2])\n",
    "print(a[7:3:-1])"
   ]
  },
  {
   "cell_type": "markdown",
   "id": "539a5628",
   "metadata": {},
   "source": [
    "这里要注意一些区别，**列表**修改和添加还有删除和**字符串**的修改和添加和删除是不一样的"
   ]
  },
  {
   "cell_type": "code",
   "execution_count": null,
   "id": "340edb61",
   "metadata": {},
   "outputs": [],
   "source": [
    "# 列表的操作示例\n",
    "\n",
    "\n",
    "a = [1,2,3,4,5,6,7,8,9,10]\n",
    "a[3]=\"change\"  #当然，列表里每个元素的类型不一定需要一致，每个元素都可以是任意类型\n",
    "print(a)\n",
    "\n",
    "b = [11,12,13]\n",
    "print(a+b)            #简单的拼接方法\n",
    "\n",
    "a.extend([11,12,13])  #拼接一个列表\n",
    "print(a)\n",
    "\n",
    "a.append([14,15,16])  #添加一个元素\n",
    "print(a)\n",
    "\n",
    "a.pop(3)     #删除下标位置的值\n",
    "print(a)\n",
    "\n",
    "a.remove(11) #删除元素值\n",
    "print(a)"
   ]
  },
  {
   "cell_type": "code",
   "execution_count": null,
   "id": "ce07654f",
   "metadata": {},
   "outputs": [],
   "source": [
    "# 字符串的操作示例\n",
    "\n",
    "a = \"hello,world\"\n",
    "print(a.replace('l','L'))#使用replace函数将'l'替换成'L'，默认替换所有匹配内容，最后的数字表示替换几次\n",
    "print(a.replace('l','L',2))\n",
    "print(a)                 # replace函数不会修改变量本来的值，除非用重新赋值给变量，比如：a = a.replace('l','L')\n",
    "\n",
    "print(a.replace('l','')) # 如果要删除，替换成空就好了\n",
    "\n",
    "#怎么往字符串里添加字符？你可以自己试试，或者网上搜搜看"
   ]
  },
  {
   "cell_type": "markdown",
   "id": "a85fd274",
   "metadata": {},
   "source": [
    "### 字典\n",
    "\n",
    "字典的主要结构是 k:v, k表示自定义的下标索引，不一定是数字，也可以是字符，v表示数据值，要可以是任意数据结构\n",
    "\n",
    "字典比较特殊，我们单独讲一下"
   ]
  },
  {
   "cell_type": "code",
   "execution_count": null,
   "id": "e0c3123d",
   "metadata": {},
   "outputs": [],
   "source": [
    "a = {'语文':92,'数学':95,'英语':91 }\n",
    "print(a)\n",
    "\n",
    "#添加新键值对\n",
    "a['体育'] = 89\n",
    "print(a)\n",
    "\n",
    "#修改键值对\n",
    "a['英语'] = \"作弊\"\n",
    "print(a)\n",
    "\n",
    "#删除键值对\n",
    "del a['英语']\n",
    "print(a)"
   ]
  },
  {
   "cell_type": "markdown",
   "id": "cc75da82",
   "metadata": {},
   "source": [
    "### 遍历\n",
    "\n",
    "字符串、列表、字典都是可迭代类型的数据，都支持用for进行遍历："
   ]
  },
  {
   "cell_type": "code",
   "execution_count": null,
   "id": "1988ace4",
   "metadata": {},
   "outputs": [],
   "source": [
    "str_a  = \"hello,world\"\n",
    "list_a = [1,2,3,4,5,6,7,8,9,10]\n",
    "dict_a = {'语文':92,'数学':95,'英语':91 }\n",
    "\n",
    "for i in str_a:\n",
    "    print(i,end='')\n",
    "print(\"\")\n",
    "\n",
    "for i in list_a:\n",
    "    print(i,end='')\n",
    "print(\"\")\n",
    "    \n",
    "for k,v in dict_a.items():\n",
    "    print(k,v,end='')\n",
    "print(\"\")"
   ]
  },
  {
   "cell_type": "markdown",
   "id": "39492b37",
   "metadata": {},
   "source": [
    "## 习题:"
   ]
  },
  {
   "cell_type": "markdown",
   "id": "020ecf7a",
   "metadata": {},
   "source": [
    "dict_stu = {'stu_001':92,'stu_002':99,'stu_003':81,'stu_004':67,'stu_005':95}\n",
    "\n",
    "以上是一个班级同学成绩的字典，请筛选出成绩大于90分的，并按照分数从高到底的顺序生成一个排名列表order_list：['stu_002','stu_005','stu_001']"
   ]
  },
  {
   "cell_type": "code",
   "execution_count": null,
   "id": "382306c8",
   "metadata": {},
   "outputs": [],
   "source": [
    "dict_stu = {'stu_001':92,'stu_002':99,'stu_003':81,'stu_004':67,'stu_005':95}\n",
    "order_list = []\n",
    "for for k,v in dict_a.items():\n",
    "'''\n",
    "    请填写你的答案\n",
    "'''\n",
    "print(order_list)"
   ]
  }
 ],
 "metadata": {
  "kernelspec": {
   "display_name": "Python 3 (ipykernel)",
   "language": "python",
   "name": "python3"
  },
  "language_info": {
   "codemirror_mode": {
    "name": "ipython",
    "version": 3
   },
   "file_extension": ".py",
   "mimetype": "text/x-python",
   "name": "python",
   "nbconvert_exporter": "python",
   "pygments_lexer": "ipython3",
   "version": "3.9.7"
  }
 },
 "nbformat": 4,
 "nbformat_minor": 5
}

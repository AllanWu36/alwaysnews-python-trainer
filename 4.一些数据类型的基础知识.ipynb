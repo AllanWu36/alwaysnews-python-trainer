{
 "cells": [
  {
   "cell_type": "markdown",
   "id": "8d6b5332",
   "metadata": {},
   "source": [
    "## 字符串、列表、字典"
   ]
  },
  {
   "cell_type": "code",
   "execution_count": 15,
   "id": "fb1f513d",
   "metadata": {},
   "outputs": [],
   "source": [
    "str_a = 'hello world'\n",
    "list_a = [1,2,3]\n",
    "dict_a = {\"1\":\"v\"}"
   ]
  },
  {
   "cell_type": "markdown",
   "id": "437608d4",
   "metadata": {},
   "source": [
    "## 索引"
   ]
  },
  {
   "cell_type": "code",
   "execution_count": 12,
   "id": "98225a7f",
   "metadata": {},
   "outputs": [
    {
     "name": "stdout",
     "output_type": "stream",
     "text": [
      "e\n",
      "2\n",
      "v\n"
     ]
    }
   ],
   "source": [
    "a = 'hello world'\n",
    "print(a[1])\n",
    "a = [1,2,3]\n",
    "print(a[1])\n",
    "a = {1:\"v\"}\n",
    "print(a[1])"
   ]
  },
  {
   "cell_type": "markdown",
   "id": "cc75da82",
   "metadata": {},
   "source": [
    "## 分片"
   ]
  },
  {
   "cell_type": "code",
   "execution_count": 13,
   "id": "0a1c9535",
   "metadata": {},
   "outputs": [
    {
     "name": "stdout",
     "output_type": "stream",
     "text": [
      "he\n",
      "[1, 2]\n"
     ]
    },
    {
     "ename": "TypeError",
     "evalue": "unhashable type: 'slice'",
     "output_type": "error",
     "traceback": [
      "\u001b[0;31m---------------------------------------------------------------------------\u001b[0m",
      "\u001b[0;31mTypeError\u001b[0m                                 Traceback (most recent call last)",
      "Cell \u001b[0;32mIn [13], line 6\u001b[0m\n\u001b[1;32m      4\u001b[0m \u001b[38;5;28mprint\u001b[39m(a[:\u001b[38;5;241m2\u001b[39m])\n\u001b[1;32m      5\u001b[0m a \u001b[38;5;241m=\u001b[39m {\u001b[38;5;124m\"\u001b[39m\u001b[38;5;124m1\u001b[39m\u001b[38;5;124m\"\u001b[39m:\u001b[38;5;124m\"\u001b[39m\u001b[38;5;124mv\u001b[39m\u001b[38;5;124m\"\u001b[39m}\n\u001b[0;32m----> 6\u001b[0m \u001b[38;5;28mprint\u001b[39m(\u001b[43ma\u001b[49m\u001b[43m[\u001b[49m\u001b[43m:\u001b[49m\u001b[38;5;241;43m2\u001b[39;49m\u001b[43m]\u001b[49m)\n",
      "\u001b[0;31mTypeError\u001b[0m: unhashable type: 'slice'"
     ]
    }
   ],
   "source": [
    "a = 'hello world'\n",
    "print(a[:2])\n",
    "a = [1,2,3]\n",
    "print(a[:2])\n",
    "a = {\"1\":\"v\"}\n",
    "print(a[:2])"
   ]
  },
  {
   "cell_type": "code",
   "execution_count": 16,
   "id": "1988ace4",
   "metadata": {},
   "outputs": [
    {
     "name": "stdout",
     "output_type": "stream",
     "text": [
      "h\n",
      "e\n",
      "l\n",
      "l\n",
      "o\n",
      " \n",
      "w\n",
      "o\n",
      "r\n",
      "l\n",
      "d\n",
      "1\n",
      "2\n",
      "3\n",
      "1\n"
     ]
    }
   ],
   "source": [
    "for i in str_a:\n",
    "    print(i)\n",
    "    \n",
    "for i in list_a:\n",
    "    print(i)  \n",
    "    \n",
    "for i in dict_a:\n",
    "    print(i)"
   ]
  },
  {
   "cell_type": "code",
   "execution_count": null,
   "id": "cb0ef6d2",
   "metadata": {},
   "outputs": [],
   "source": []
  }
 ],
 "metadata": {
  "kernelspec": {
   "display_name": "Python 3 (ipykernel)",
   "language": "python",
   "name": "python3"
  },
  "language_info": {
   "codemirror_mode": {
    "name": "ipython",
    "version": 3
   },
   "file_extension": ".py",
   "mimetype": "text/x-python",
   "name": "python",
   "nbconvert_exporter": "python",
   "pygments_lexer": "ipython3",
   "version": "3.9.7"
  }
 },
 "nbformat": 4,
 "nbformat_minor": 5
}

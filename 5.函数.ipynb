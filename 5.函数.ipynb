{
 "cells": [
  {
   "cell_type": "markdown",
   "id": "90d2d675",
   "metadata": {},
   "source": [
    "## 函数"
   ]
  },
  {
   "cell_type": "markdown",
   "id": "da81a98c",
   "metadata": {},
   "source": [
    "### 函数定义\n",
    "\n",
    "为了复用一些简单的逻辑，或可能会提供给别人使用的逻辑，我们会把这段逻辑打包，形成“函数”（function）\n",
    "\n",
    "\"函数\"是比较古典的叫法，我们一般也可以称之为“方法”\n",
    "\n",
    "方法的定义也很简单:\n",
    "\n",
    "```\n",
    "def <fun>(<para>):\n",
    "    dosomething\n",
    "    return \n",
    "```\n",
    "\n",
    "用关键字`def`开始 ，后面接方法名称，然后在括号里定义需要的输入参数，就可以了\n",
    "\n",
    "在方法内，代码需要严格遵照缩进规则。\n",
    "\n",
    "在需要退出或返回的地方，使用`return`,根据需要，后面可以跟随一个变量值，或直接返回都可以。\n",
    "\n",
    "一个实现加法函数的定义和使用就像这样："
   ]
  },
  {
   "cell_type": "code",
   "execution_count": null,
   "id": "ac3b6364",
   "metadata": {},
   "outputs": [],
   "source": [
    "def plus(a,b):\n",
    "    return a + b\n",
    "\n",
    "plus(1,2)"
   ]
  },
  {
   "cell_type": "markdown",
   "id": "cd4b9f2f",
   "metadata": {},
   "source": [
    "### 参数\n",
    "一般来说，参数分入参和出参，但为了更好的区分，我们统一定义把入参叫做参数，把出参叫做返回值\n",
    "\n",
    "对于方法的参数，有两个类型，一种是必要参数，一种是非必要参数\n",
    "\n",
    "```\n",
    "#a,b都是必要参数\n",
    "def plus(a,b):\n",
    "    return a + b\n",
    "    \n",
    "#a是必要参数,,b是非必要参数\n",
    "def plus(a,b=0):\n",
    "    return a + b  \n",
    "```\n",
    "\n",
    "可以看到，如果在定义是，给了参数一个默认值（如 b=0）,则在调用方法时，可以不提供这个参数，函数会使用参数的默认值，如下"
   ]
  },
  {
   "cell_type": "code",
   "execution_count": null,
   "id": "fe6380da",
   "metadata": {},
   "outputs": [],
   "source": [
    "def plus(a,b=0):\n",
    "    return a + b\n",
    "\n",
    "plus(2)"
   ]
  },
  {
   "cell_type": "markdown",
   "id": "a282eee6",
   "metadata": {},
   "source": [
    "另外，在调用函数是，也可以显式的指定给那个参数赋值，比如："
   ]
  },
  {
   "cell_type": "code",
   "execution_count": null,
   "id": "6480ee5b",
   "metadata": {},
   "outputs": [],
   "source": [
    "def plus(a,b):\n",
    "    print(\"a = \",a)\n",
    "    print(\"b = \",b)\n",
    "    return a + b\n",
    "\n",
    "plus(b=2, a=3)"
   ]
  },
  {
   "cell_type": "markdown",
   "id": "2982dd52",
   "metadata": {},
   "source": [
    "### 变量的作用域\n",
    "总得来说  \n",
    "\n",
    "在函数外创建的变量只能在函数外引用  \n",
    "在函数内创建的变量（包括参数）只能在函数内引用  \n",
    "\n",
    "这些都叫做`局部变量`"
   ]
  },
  {
   "cell_type": "code",
   "execution_count": null,
   "id": "1bb890d7",
   "metadata": {},
   "outputs": [],
   "source": [
    "a = 3\n",
    "def fun(a = 0):\n",
    "    print(a)\n",
    "fun()\n",
    "print(a)"
   ]
  },
  {
   "cell_type": "markdown",
   "id": "b5ba385e",
   "metadata": {},
   "source": [
    "还有一种是全局变量，用关键字`globla`定义。（注意，不能定义的同时赋值）  \n",
    "\n",
    "被`globla`定义过的变量可以在函数中直接使用"
   ]
  },
  {
   "cell_type": "code",
   "execution_count": null,
   "id": "b0f68b55",
   "metadata": {},
   "outputs": [],
   "source": [
    "global A \n",
    "A=3 \n",
    "def fun():\n",
    "    print(A)\n",
    "fun()\n",
    "print(A)"
   ]
  },
  {
   "cell_type": "markdown",
   "id": "414dd595",
   "metadata": {},
   "source": [
    "你自己也可以试试如果在函数中定义了跟全局变量一样名称的变量会发生什么"
   ]
  },
  {
   "cell_type": "markdown",
   "id": "d28de587",
   "metadata": {},
   "source": [
    "### 匿名函数\n",
    "\n",
    "顾名思义，就是没有名称的函数，可以理解成“一句话函数”，语法如下：\n",
    "\n",
    "`lambda arguments : expression`\n",
    "- arguments位置是参数\n",
    "- expression位置是表达式\n",
    "\n",
    "他经常和map()和fliter()函数配合使用\n",
    "\n",
    "`map(<lambda>,iterable)`是一个python内置函数，该函数将将iterable的每一个元素递交给匿名函数(lambda)，并将返回一个经过(lambda)处理后的迭代器对象。\n",
    "\n",
    "`filter(<lambda>,iterable)`也是一个python内置函数，函数将iterable的每一个元素递交给匿名函数(lambda)，并将返回一个只返回(lambda)处理后的为True的元素的迭代器对象。\n",
    "\n",
    "如果文字难以理解，可以看看[这里](https://geek-docs.com/python/python-tutorial/python-lambda.html)\n"
   ]
  },
  {
   "cell_type": "code",
   "execution_count": null,
   "id": "39287bb3",
   "metadata": {},
   "outputs": [],
   "source": [
    "nums = [1, 2, 3, 4, 5, 6]\n",
    "new_nums = map(lambda x: x +1, nums)\n",
    "print(list(new_nums))\n",
    "\n",
    "nums = [1, 2, 3, 4, 5, 6]\n",
    "new_nums = filter(lambda x: x>3, nums)\n",
    "print(list(new_nums))"
   ]
  },
  {
   "cell_type": "markdown",
   "id": "a30a9951",
   "metadata": {},
   "source": [
    "到此，函数的内容基本结束了，下一节我们将迎来一个里程碑，在此之前，我们先休息一下吧"
   ]
  },
  {
   "cell_type": "markdown",
   "id": "a1812b9c",
   "metadata": {},
   "source": [
    "- #### **<font color = red>注意：下面的内容稍显复杂，没看明白也没关系，等需要用的时候再来看一遍就行</font>**\n",
    "\n",
    "最后说说上一节的最后一个问题，本意是想大家可以练习下搜索能力，用“python 字典 列表 排序”关键字进行搜索，得到想要的答案。\n",
    "\n",
    "但后来我想试试如果就用我讲到的内容，能不能实现，结果动手后才发现，虽然也可以实现，但这题确实有点难度😓\n",
    "\n",
    "使用选择排序（Selection sort）排序算法实现的代码如下："
   ]
  },
  {
   "cell_type": "code",
   "execution_count": null,
   "id": "1cb896dc",
   "metadata": {},
   "outputs": [],
   "source": [
    "dict_stu = {'stu_001':92,'stu_002':99,'stu_003':81,'stu_004':67,'stu_005':95}\n",
    "order_list = []\n",
    "\n",
    "#遍历字典里的每个键值\n",
    "for k,v in dict_stu.items():\n",
    "    #获取大于90的分数的分数列表\n",
    "    if v > 90:\n",
    "        order_list.append(k) \n",
    "\n",
    "#遍历order_list的每一个值，按照大小排序\n",
    "for i in range(len(order_list)):\n",
    "    #默认第一个是最大值\n",
    "    bigest_stu_idex = i               #暂存一下最大值的下标\n",
    "    bigest_stu = order_list[i]        #暂存一下最大值的学号\n",
    "    bigest = dict_stu[order_list[i]]  #暂存一下最大值的分数\n",
    "    \n",
    "    #嵌套循环，比较后面每一个数的大小\n",
    "    for j in range(i+1,len(order_list)): \n",
    "        \n",
    "        #如果比暂存的最大值小,则跳过\n",
    "        if bigest > dict_stu[order_list[j]]:\n",
    "            pass\n",
    "        #否则，就更新最大值信息\n",
    "        else:\n",
    "            bigest = dict_stu[order_list[j]]\n",
    "            bigest_stu_idex = j\n",
    "            bigest_stu = order_list[j]\n",
    "            \n",
    "    #利用temp变量，替换这一轮的最大值的位置\n",
    "    temp_stu = order_list[i]\n",
    "    order_list[i] = bigest_stu\n",
    "    order_list[bigest_stu_idex] = temp_stu\n",
    "\n",
    "print(order_list)"
   ]
  },
  {
   "cell_type": "markdown",
   "id": "2418f951",
   "metadata": {},
   "source": [
    "排序算法是典型的程序问题，在学院派体系的教育中，属于必考点，而且实现方法有很多种，具体可以参见[这里](https://www.runoob.com/cprogramming/c-sort-algorithm.html)\n",
    "\n",
    "还是那句话，不用背，了解这些知识就好，因为现实中基本不用自己实现，大部分程序员第一反应都是找已经封装好的函数去使用\n",
    "\n",
    "比如python 的 [sorted()函数](https://www.runoob.com/python3/python3-func-sorted.html)\n",
    "\n",
    "还有python 的 [列表解析器](https://blog.csdn.net/LittleHuang950620/article/details/81774402) 或者说 [推导式](https://www.runoob.com/python3/python-comprehensions.html)\n",
    "\n",
    "如果用了上面两个方法和特性，两行就解决了："
   ]
  },
  {
   "cell_type": "code",
   "execution_count": null,
   "id": "f948a3f1",
   "metadata": {},
   "outputs": [],
   "source": [
    "dict_stu = {'stu_001':92,'stu_002':99,'stu_003':81,'stu_004':67,'stu_005':95}\n",
    "\n",
    "#根据字典的值大小排序，得到一个list\n",
    "list_temp = sorted(dict_stu.items(), key = lambda kv:(kv[1]),reverse=True)\n",
    "\n",
    "#筛选list里大于90分的\n",
    "order_list = [i[0] for i in list_temp if i[1]>90]\n",
    "\n",
    "print(order_list)"
   ]
  },
  {
   "cell_type": "markdown",
   "id": "bf12188b",
   "metadata": {},
   "source": [
    "这个示例告诉我们，虽然自己埋头也能干出来，但多搜索多学习新的方法，也许更简单"
   ]
  }
 ],
 "metadata": {
  "kernelspec": {
   "display_name": "Python 3 (ipykernel)",
   "language": "python",
   "name": "python3"
  },
  "language_info": {
   "codemirror_mode": {
    "name": "ipython",
    "version": 3
   },
   "file_extension": ".py",
   "mimetype": "text/x-python",
   "name": "python",
   "nbconvert_exporter": "python",
   "pygments_lexer": "ipython3",
   "version": "3.9.7"
  }
 },
 "nbformat": 4,
 "nbformat_minor": 5
}

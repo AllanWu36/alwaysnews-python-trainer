{
 "cells": [
  {
   "cell_type": "markdown",
   "id": "9a26f3cd",
   "metadata": {},
   "source": [
    "jupyterhub 使用教程\n",
    "\n",
    "\n",
    "\n",
    "## jupyter介绍\n",
    "\n",
    "这一部分是简单的工具介绍，不想看的可以直接转到第二部分\n",
    "\n",
    "Jupyter 是一个开源的Web应用程序，允许用户创建和共享包含代码、方程式、可视化和文本的文档。它的用途包括：数据清理和转换、数值模拟、统计建模、数据可视化、机器学习等等。它具有以下优势：\n",
    "\n",
    "- 可选择语言：支持超过40种编程语言，包括Python、R、Julia、Scala等。\n",
    "- 分享笔记本：可以使用电子邮件、Dropbox、GitHub和Jupyter Notebook Viewer与他人共享。\n",
    "- 交互式输出：代码可以生成丰富的交互式输出，包括HTML、图像、视频、LaTeX等等。\n",
    "- 大数据整合：通过Python、R、Scala编程语言使用Apache Spark等大数据框架工具。支持使用pandas、scikit-learn、ggplot2、TensorFlow来探索同一份数据。\n",
    "\n",
    "\n",
    "\n",
    "## 使用\n",
    "\n",
    "访问www.alwaysnew.cn ，第一次登录界面输入我给定的用户名，和随意的一个密码即可注册，后续的登录填写跟第一次相同的密码即可。\n",
    "\n",
    "![](http://img.cdn.alwaysnew.cn/from_iscas_mac/20220925153258_JLu01l_Screenshot.jpeg)\n",
    "\n",
    "登录后后台会加载一些服务，然后显示一个文件列表界面，左边部分有三个标签页，Files显示所有的文件，Running显示的是正在运行的python进程；最后一个clusters暂时没有用。\n",
    "\n",
    "![](https://files.mdnice.com/user/15842/f3868e9d-0e74-4aa2-8c60-d108c3e23a86.png)\n",
    "\n",
    "右侧上角是登出和控制面板，控制面板里可以设置一些用于api操作的token，目前也用不到。\n",
    "\n",
    "下面是上传按钮，可以上传本地的一些文件，还有个新建，有两类，一类是notebook，可以新建python3交互（ipynb）文件，也是我们最主要用的；另一类其他，可以新建文本文件、文件夹、终端，其中终端可以做一些安装python库的操作，但目前也无需了解。\n",
    "\n",
    "![](https://files.mdnice.com/user/15842/68b95721-b94f-447b-8448-12cefb10d415.png)\n",
    "\n",
    "\n",
    "\n",
    "新建或者点击一个已有的ipynb文件，会加载出一个笔记本页面，第一次加载会比较慢，耐心等一下，以后面再打开会快很多。\n",
    "\n",
    "打开一个笔记本后，主界面如下所示，可以看到笔记本是以单元格（cell）来组织的，比如In[1]、In[2]、In[3]、Out[3]等，括号里的序号代表你执运行过的单元格的顺序，所以不一定是顺序执行整个笔记本，你可以根据你的需要，按你的顺序执行单元格。（有是运行一个cell后括号中显示[*]，则表示一直在链接内核，等待输出结果，如果长时间无响应，刷新页面就好）\n",
    "\n",
    "其中In代表用户输入的cell，用户可以进行编辑并点击顶部的“运行”按钮运行（或者在激活某个cell时使用快捷键shift+enter）；Out代表对应输出的cell，默认会显示最后一行的变量，或者显示出print()的打印。\n",
    "\n",
    "![](http://img.cdn.alwaysnew.cn/from_iscas_mac/20220925224502_7e9eWl_Screenshot.jpeg)\n",
    "\n",
    "另外cell也可以有不同的类型，可以是代码，也可以是markdown（markdown是一种笔记语法，可以生成很漂亮的笔记），都可以在激活某个cell时从上面写有“代码”的下拉菜单中选择。你可以选择做一些笔记，或者遗留一些问题。我看到会进行回复。\n",
    "\n",
    "![](http://img.cdn.alwaysnew.cn/from_iscas_mac/20220925230639_p9C78L_Screenshot.jpeg)\n",
    "\n",
    "好了，最基本的操作就是这些，另外如果长时间不使用这个页面，系统为了释放资源，会断开后台的内核，这时重新刷新页面即可。\n",
    "\n",
    "重新刷新页面后，你的代码一般是不会丢的，但需要重新再运行一遍你之前运行过的cell，因为内核断开后，相当于你的运行记录没有了，所有变量都没有被赋值，所以直接运行中间的cell有可能发生错误。"
   ]
  },
  {
   "cell_type": "code",
   "execution_count": null,
   "id": "6a9f4c53",
   "metadata": {},
   "outputs": [],
   "source": []
  }
 ],
 "metadata": {
  "kernelspec": {
   "display_name": "Python 3 (ipykernel)",
   "language": "python",
   "name": "python3"
  },
  "language_info": {
   "codemirror_mode": {
    "name": "ipython",
    "version": 3
   },
   "file_extension": ".py",
   "mimetype": "text/x-python",
   "name": "python",
   "nbconvert_exporter": "python",
   "pygments_lexer": "ipython3",
   "version": "3.9.7"
  }
 },
 "nbformat": 4,
 "nbformat_minor": 5
}

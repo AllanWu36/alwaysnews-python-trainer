{
 "cells": [
  {
   "cell_type": "markdown",
   "id": "b1109c26",
   "metadata": {},
   "source": [
    "开始前，先解答下上一节最后的问题："
   ]
  },
  {
   "cell_type": "code",
   "execution_count": null,
   "id": "4b1af638",
   "metadata": {},
   "outputs": [],
   "source": [
    "a = [1,2,3]\n",
    "b = a\n",
    "a = [a[0],a[1],4]\n",
    "print(a,b)"
   ]
  },
  {
   "cell_type": "markdown",
   "id": "7445fd30",
   "metadata": {},
   "source": [
    "当然，还有从根本解决问题的一种方法，就是不直接使用 a = b，而使用copy()方法"
   ]
  },
  {
   "cell_type": "code",
   "execution_count": null,
   "id": "ae19d296",
   "metadata": {},
   "outputs": [],
   "source": [
    "a = [1,2,3]\n",
    "b = a.copy()\n",
    "a[2] = 4\n",
    "print(a,b)"
   ]
  },
  {
   "cell_type": "markdown",
   "id": "a1b71d71",
   "metadata": {},
   "source": [
    "怎么样，能感受到其中的差别么，这就是变量引用和拷贝的区别，具体还可以查看[这里](https://www.runoob.com/w3cnote/python-understanding-dict-copy-shallow-or-deep.html)深入学习。  \n",
    "\n",
    "这东西不用背下来，知道有这么回事就可以了"
   ]
  },
  {
   "cell_type": "markdown",
   "id": "d62246cf",
   "metadata": {},
   "source": [
    "## 逻辑控制"
   ]
  },
  {
   "cell_type": "markdown",
   "id": "649d715f",
   "metadata": {},
   "source": [
    "接下来，我们要了解程序的逻辑控制\n",
    "\n",
    "机器没有感情，只有逻辑\n",
    "\n",
    "要让机器为我们干活，必须准确表达我们的逻辑\n",
    "\n",
    "所有的编程语言都必不可少的语法，就是逻辑控制\n",
    "\n",
    "更进一步的说，就是控制代码执行的顺序\n",
    "\n",
    "就像人类读书一样，机器一般的也是从上到下执行程序；\n",
    "\n",
    "要打破这个规律，就要用以下的特殊关键字：\n",
    "\n",
    "- **if...elif...else...**\n",
    "\n",
    "- **while**\n",
    "\n",
    "- **for**"
   ]
  },
  {
   "cell_type": "markdown",
   "id": "ba6143ae",
   "metadata": {},
   "source": [
    "### 先来看if\n",
    "\n",
    "```\n",
    "if <condition> :\n",
    "  do something\n",
    "elif <condition> :\n",
    "  do something\n",
    "else :\n",
    "  do something\n",
    "```\n",
    "\n",
    "if 是条件判断，语法很好理解，就是判断后面的表达式 **\\<condition\\>** （condition必须以冒号结尾）是否为真值，如果是就执行，否则就不执行，如下所示：\n",
    "\n"
   ]
  },
  {
   "cell_type": "code",
   "execution_count": null,
   "id": "734c0654",
   "metadata": {},
   "outputs": [],
   "source": [
    "score = 100\n",
    "\n",
    "if score <= 70:\n",
    "    print(\"什么奖励也没有\")\n",
    "elif score > 70 and  score <=80:\n",
    "    print(\"奖励一瓶可乐\")\n",
    "elif score > 80 and  score <=90:\n",
    "    print(\"奖励一瓶雪碧\")\n",
    "else:\n",
    "    print(\"奖励一瓶王老吉\")\n"
   ]
  },
  {
   "cell_type": "markdown",
   "id": "33c9b718",
   "metadata": {},
   "source": [
    "写这种条件判断的时候，特别是大小比较的时候，需要特别注意逻辑的准确性，不然很容易出现bug。  \n",
    "注意：else是一条包罗万象的语句，只要不满足任何if或elif中的条件测试，其中的代码就会执行，如果清晰的知道所有的判断逻辑，应考虑使用一个elif代码块来代替else代码。\n",
    "\n",
    "另外，除了做比较运算，其他常用的还有成员判断，还有逻辑组合。\n",
    "\n",
    "- [比较关系](https://www.runoob.com/python/python-operators.html#ysf2)\n",
    "- [成员关系](https://www.runoob.com/python/python-operators.html#ysf6)  \n",
    "- [逻辑组合](https://www.runoob.com/python/python-operators.html#ysf4)\n",
    "\n",
    "利用这些语句，基本上可以满足我们编写判断表达式的大部分需求了。"
   ]
  },
  {
   "cell_type": "markdown",
   "id": "4b7440fc",
   "metadata": {},
   "source": [
    "### while \n",
    "\n",
    "```\n",
    "\n",
    "while <condition>:\n",
    "    dosomething  \n",
    "    \n",
    "```\n",
    "\n",
    "while控制也很简单，就是判断后面的表达式是否为真值，如果是，就反复执行其下缩进的语句"
   ]
  },
  {
   "cell_type": "code",
   "execution_count": null,
   "id": "7378140e",
   "metadata": {},
   "outputs": [],
   "source": [
    "count = 0\n",
    "while (count < 9):\n",
    "    print('The count is:', count)\n",
    "    count = count + 1 "
   ]
  },
  {
   "cell_type": "markdown",
   "id": "95635109",
   "metadata": {},
   "source": [
    "值得注意的是，一定注意判断条件什么时候会返回false，否则就会变成“死循环”——永不停歇的反复执行，直到cpu卡死"
   ]
  },
  {
   "cell_type": "markdown",
   "id": "e765beb9",
   "metadata": {},
   "source": [
    "### for\n",
    "\n",
    "```python\n",
    "for var in Iterable:\n",
    "    dosomething\n",
    "```\n",
    "for也是最常用的循环控制语句，主要作用是迭代一个可迭代对象(Iterable)，最简单的例子，就是遍历一个列表："
   ]
  },
  {
   "cell_type": "code",
   "execution_count": null,
   "id": "a3f7cd1e",
   "metadata": {},
   "outputs": [],
   "source": [
    "for i in list(range(1,11)):\n",
    "    print(i)"
   ]
  },
  {
   "cell_type": "markdown",
   "id": "378a9bf9",
   "metadata": {},
   "source": [
    "### 进阶\n",
    "\n",
    "这里额外需要说明一下[range()函数](https://www.runoob.com/python/python-func-range.html)。  \n",
    "\n",
    "range() 返回的是一个可迭代对象（类型是对象），而不是列表类型， 所以打印range()的时候不会打印列表。\n",
    "\n",
    "但由于range()是一个可迭代类型，可以直接用`for i in range(x):`来进行循环控制。\n",
    "\n",
    "同时，list()函数，可以从一个可迭代对象生成一个列表，所以list(range(1,11))可以等价于 [1,2,3……,10]\n",
    "\n",
    "从最终效果来说，下面三种写法都是等价的\n"
   ]
  },
  {
   "cell_type": "code",
   "execution_count": null,
   "id": "b1d852a7",
   "metadata": {},
   "outputs": [],
   "source": [
    "for i in range(3):\n",
    "    print(i)\n",
    "    \n",
    "for i in [0,1,2]:\n",
    "    print(i)\n",
    "    \n",
    "for i in list(range(3)):\n",
    "    print(i)   "
   ]
  },
  {
   "cell_type": "markdown",
   "id": "44fe83de",
   "metadata": {},
   "source": [
    "### 例题一"
   ]
  },
  {
   "cell_type": "markdown",
   "id": "3a17bd52",
   "metadata": {},
   "source": [
    "通过循环语句，打印出99乘法表：  \n",
    "小技巧：print 函数的参数 end 默认值为\"\\n\"，即end=\"\\n\"，表示换行，给 end 赋值为空, 即end=\"\"，即为后续不换行\n",
    "\n",
    "关于print函数具体参数可以参见[这里](https://www.runoob.com/python3/python-func-print.html) 。 \n",
    "\n",
    "另外，你可能还需要了解一个叫“格式化输出（format）”的方法，可以把变量套入模板里并打印出来，详见[这里](https://docs.python.org/zh-cn/3.9/tutorial/inputoutput.html#the-string-format-method)。"
   ]
  },
  {
   "cell_type": "code",
   "execution_count": null,
   "id": "c2eab6a1",
   "metadata": {},
   "outputs": [],
   "source": [
    "#比如连续这样打印\n",
    "print('hello ', end='')\n",
    "print(' world!', end='')     #这个打印就不会换行\n",
    "print(\"\")                    #不指定end参数，会默认换行\n",
    "print(\"I'm a new line!\")\n",
    "\n",
    "#将变量套入模板里打印\n",
    "a=100\n",
    "b=99\n",
    "print(\"小明考试数学得了{}分，语文得了{}分\".format(a,b))"
   ]
  },
  {
   "cell_type": "markdown",
   "id": "32bd6397",
   "metadata": {},
   "source": [
    "最终应该实现这样的打印效果：\n",
    "\n",
    "```\n",
    "1x1=1 \n",
    "2x1=2 2x2=4 \n",
    "3x1=3 3x2=6 3x3=9 \n",
    "4x1=4 4x2=8 4x3=12 4x4=16 \n",
    "5x1=5 5x2=10 5x3=15 5x4=20 5x5=25 \n",
    "6x1=6 6x2=12 6x3=18 6x4=24 6x5=30 6x6=36 \n",
    "7x1=7 7x2=14 7x3=21 7x4=28 7x5=35 7x6=42 7x7=49 \n",
    "8x1=8 8x2=16 8x3=24 8x4=32 8x5=40 8x6=48 8x7=56 8x8=64 \n",
    "9x1=9 9x2=18 9x3=27 9x4=36 9x5=45 9x6=54 9x7=63 9x8=72 9x9=81\n",
    "```\n",
    "\n",
    "好了，快试试吧"
   ]
  },
  {
   "cell_type": "code",
   "execution_count": null,
   "id": "14cfe5dd",
   "metadata": {},
   "outputs": [],
   "source": [
    "for x in range(1, 10):\n",
    "    ..."
   ]
  },
  {
   "cell_type": "markdown",
   "id": "05d4affa",
   "metadata": {},
   "source": [
    "### 例题二\n",
    "\n",
    "挑选old_list中大于300的数字，并组成新的列表:\n",
    "\n",
    "old_list = [235, 297, 149, 131, 320, 391, 101, 397, 303, 449]\n",
    "\n",
    "提示：往listA中加入一个元素i，可以用listA.append(i)"
   ]
  },
  {
   "cell_type": "code",
   "execution_count": null,
   "id": "167430a9",
   "metadata": {},
   "outputs": [],
   "source": [
    " \n",
    "old_list = [235, 297, 149, 131, 320, 391, 101, 397, 303, 449]\n",
    "new_list = []\n",
    "\n",
    "for i in old_list:\n",
    "    ...\n",
    "    \n",
    "print(new_list)"
   ]
  }
 ],
 "metadata": {
  "kernelspec": {
   "display_name": "Python 3 (ipykernel)",
   "language": "python",
   "name": "python3"
  },
  "language_info": {
   "codemirror_mode": {
    "name": "ipython",
    "version": 3
   },
   "file_extension": ".py",
   "mimetype": "text/x-python",
   "name": "python",
   "nbconvert_exporter": "python",
   "pygments_lexer": "ipython3",
   "version": "3.9.7"
  }
 },
 "nbformat": 4,
 "nbformat_minor": 5
}

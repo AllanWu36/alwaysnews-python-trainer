{
 "cells": [
  {
   "cell_type": "markdown",
   "id": "e24212be",
   "metadata": {},
   "source": [
    "上回书说到，要计算某个点是否在圆内，其实从数学的角度来说，就是看圆心到点的距离是否小于半径。\n",
    "\n",
    "也许你还能依稀记得以前学过的几何，好像是可以通过点的坐标计算两点之间的距离，可具体公式却记不起了。\n",
    "\n",
    "网上查到公式，结果用python实现起来又觉得很不优雅。\n",
    "\n",
    "这时`math模块`就可以帮到你了"
   ]
  },
  {
   "cell_type": "code",
   "execution_count": null,
   "id": "45960278",
   "metadata": {},
   "outputs": [],
   "source": [
    "import math\n",
    "\n",
    "p = [5,5]  #注意dist的参数需要的是list，如果是元组格式需要先转换一下\n",
    "q = [0,0]\n",
    "\n",
    "print (math.dist(p, q))"
   ]
  },
  {
   "cell_type": "markdown",
   "id": "86c1e1c8",
   "metadata": {},
   "source": [
    "以上就是求点（5,5） 到 点（0,0）的距离了。\n",
    "\n",
    "利用`模块`和`包`就可以快速使用一些别人已经写好的功能，从而快速达成自己的目的。\n",
    "\n",
    "充分利用其他人的成果，就像搭积木那样。\n",
    "\n",
    "这将是你从编程菜鸟变身高手，编写更大型的工程的必经之路"
   ]
  },
  {
   "cell_type": "markdown",
   "id": "b6b542e5",
   "metadata": {},
   "source": [
    "## 如何引入 `模块` 和 `包`"
   ]
  },
  {
   "cell_type": "markdown",
   "id": "4b0dc271",
   "metadata": {},
   "source": [
    "模块是一个有组织的实现了某一类主题功能的python文件\n",
    "\n",
    "包是一个有组织的实现了某一类主题功能的python文件夹，文件夹里包含了很多文件（模块）"
   ]
  },
  {
   "cell_type": "markdown",
   "id": "870ada26",
   "metadata": {},
   "source": [
    "引用的方法，一般就这几种\n",
    "```\n",
    "import xxx\n",
    "import xxx.xxx\n",
    "import xxx.xxx as alias\n",
    "\n",
    "from xxx import xxx\n",
    "from xxx import xxx as alias\n",
    "```\n",
    "具体的话，如果是导入模块\n",
    "\n",
    "```\n",
    "import 模块名 [as 别名]\n",
    "from 模块名 import 成员名,成员名,成员名\n",
    "```\n",
    "如果是导入包：\n",
    "```\n",
    "import 包名[.模块名] [as 别名]\n",
    "from 包名 import 模块名\n",
    "from 包名.模块名 import 成员名\n",
    "```\n",
    "\n",
    ">对于xxx.xxx.xxx,其实就是按照文件夹路径顺序进行排列，从最初目录开始，一级一级延伸，最后一个xxx可以是中间某一层文件(子包)，也可以是最终某个py文件（模块）\n",
    " "
   ]
  },
  {
   "cell_type": "markdown",
   "id": "b5f4726b",
   "metadata": {},
   "source": [
    "只是看文字不直观，下面可以自己感受一下\n",
    "\n",
    "目前文件夹结构是这样的：\n",
    "\n",
    "\n",
    ">```\n",
    ">alwaysnews-python-trainer/\n",
    ">├── ....\n",
    ">├── 8.模块和包.ipynb <------------我们现在在这里执行python\n",
    ">├── mp3.py          <------------自定义的模块\n",
    ">└── cctv            <------------自定义的包\n",
    ">    ├── __init__.py\n",
    ">    ├── ch1.py\n",
    ">    ├── ch2.py\n",
    ">    ├── ch5.py\n",
    ">    └── ch6.py\n",
    ">```\n",
    "\n",
    "大家可以在浏览器中，看见多了一个mp3.py文件，这就是我们自定义的模块。  \n",
    "它的内容如下：\n",
    ">```\n",
    "># -*- coding: UTF-8 -*-\n",
    ">\n",
    ">import random\n",
    ">\n",
    ">def play():\n",
    ">    musics = ['青花瓷','半岛铁盒','七里香','菊花台']\n",
    ">    \n",
    ">    print(\"mp3现在开始播放：{}\".format(random.choice(musics)))\n",
    ">```\n",
    "\n",
    "\n",
    "另外还多了一个cctv文件夹，里面就是自定义的包，当然你也可以根据自己需求修改里面的内容来进行测试\n",
    "\n",
    "注意`__init__.py`这个文件，它标识该目录是一个python的模块包\n",
    "\n",
    "python识别到这个文件后，会把整个目录当作一个包来处理，里面的其他py文件就被当做了模块\n",
    "\n",
    "我们先来看一下ch2.py，它内部是这样的：\n",
    "\n",
    ">```\n",
    "># -*- coding: UTF-8 -*-\n",
    ">import random\n",
    ">\n",
    ">def TV_Schedule():\n",
    ">    shows = ['财经新闻','财经评论','消费主张','正点财经']\n",
    ">    print(\"cctv2现在正在播放的是：{}\".format(random.choice(shows)))\n",
    ">\n",
    ">```"
   ]
  },
  {
   "cell_type": "markdown",
   "id": "7b42679b",
   "metadata": {},
   "source": [
    "我们先试试如何引用自定义的模块：\n",
    "\n",
    "当想引用自定义的MP3模块时，可以这样写："
   ]
  },
  {
   "cell_type": "code",
   "execution_count": null,
   "id": "11dee35b",
   "metadata": {},
   "outputs": [],
   "source": [
    "import mp3\n",
    "\n",
    "mp3.play()"
   ]
  },
  {
   "cell_type": "markdown",
   "id": "446777e7",
   "metadata": {},
   "source": [
    "也可以这样："
   ]
  },
  {
   "cell_type": "code",
   "execution_count": null,
   "id": "9e60c33e",
   "metadata": {},
   "outputs": [],
   "source": [
    "from mp3 import play\n",
    "play()"
   ]
  },
  {
   "cell_type": "markdown",
   "id": "d3384eca",
   "metadata": {},
   "source": [
    "接下来我们试试如何应用自定义的包\n",
    "\n",
    "当我想应用cctv的包里的内容时，可以这样：\n",
    "\n",
    "（先暂时不要尝试ch1、ch5,这两个的问题后面会讲到）"
   ]
  },
  {
   "cell_type": "code",
   "execution_count": null,
   "id": "9e967627",
   "metadata": {},
   "outputs": [],
   "source": [
    "import cctv.ch2\n",
    "\n",
    "cctv.ch2.TV_Schedule()"
   ]
  },
  {
   "cell_type": "markdown",
   "id": "04d702d9",
   "metadata": {},
   "source": [
    "或者这样引用，都是可以的"
   ]
  },
  {
   "cell_type": "code",
   "execution_count": null,
   "id": "4890dcb3",
   "metadata": {},
   "outputs": [],
   "source": [
    "from cctv import ch2\n",
    "\n",
    "ch2.TV_Schedule()"
   ]
  },
  {
   "cell_type": "markdown",
   "id": "a801a887",
   "metadata": {},
   "source": [
    "注意：\n",
    "\n",
    "包的两种引用区别在于调用TV_Schedule函数时，一个是以“cctv.ch2.”作为前缀，一个是以“ch2.”作为前缀。\n",
    "\n",
    "如果一定要说一个规则的话，我暂时总结下来就是，```你import了什么，就用什么来调用```：\n",
    "\n",
    "比如你是from cctv import ch2，那么调用ch2中的内容时，就要用 ch2.xxx\n",
    "\n",
    "如果你是import cctv.ch2 那么调用ch2中的内容时，就要用 cctv.ch2.xxx，不能偷懒只用ch2.xxx。"
   ]
  },
  {
   "cell_type": "markdown",
   "id": "093b258a",
   "metadata": {},
   "source": [
    "要是你想少打点字，也可以这样： 用as关键字取一个别名，后续都可以直接以别名来进行引用"
   ]
  },
  {
   "cell_type": "code",
   "execution_count": null,
   "id": "125d3109",
   "metadata": {},
   "outputs": [],
   "source": [
    "import cctv.ch2 as t\n",
    "\n",
    "t.TV_Schedule()"
   ]
  },
  {
   "cell_type": "markdown",
   "id": "ed97a8a2",
   "metadata": {},
   "source": [
    "你也可以同时导入一个包内的多个模块，像这样:"
   ]
  },
  {
   "cell_type": "code",
   "execution_count": null,
   "id": "8348c4a7",
   "metadata": {},
   "outputs": [],
   "source": [
    "from cctv import ch2,ch6\n",
    "\n",
    "ch6.TV_Schedule()\n",
    "\n",
    "ch2.TV_Schedule()"
   ]
  },
  {
   "cell_type": "markdown",
   "id": "a33407a1",
   "metadata": {},
   "source": [
    "## 搜索顺序\n"
   ]
  },
  {
   "cell_type": "markdown",
   "id": "3a6bf8a9",
   "metadata": {},
   "source": [
    "另一个需要清楚的是，导入的一个优先级问题。\n",
    "\n",
    "默认情况下，模块的搜索顺序是这样的：\n",
    "\n",
    "* 当前执行脚本所在目录\n",
    "* Python的安装目录\n",
    "* Python安装目录里的site-packages目录\n",
    "\n",
    "其实就是“自定义”——>“内置库”——>“第三方”模块的查找顺序。任何一步查找到了，就会忽略后面的路径，所以模块的放置位置是有区别的。\n",
    "\n",
    "所以，cctv是在我们的当前目录\n",
    "\n",
    "math是我们的内置库，是在我们的python安装目录\n",
    "\n",
    "第三方的库，是我们用pip工具安装的，会放在site-packages目录"
   ]
  },
  {
   "cell_type": "markdown",
   "id": "9adc2c9c",
   "metadata": {},
   "source": [
    "你不知道后面两个目录具体在哪里没关系。\n",
    "\n",
    "但一定记住！不要在当前目录编写和内置模块或常用第三方模块同名的模块或包，否则就会发生各种莫名其妙的错误。\n",
    "\n",
    "内置库（标准库）详情请看[这里](https://docs.python.org/zh-cn/3/library/index.html)"
   ]
  },
  {
   "cell_type": "markdown",
   "id": "15f93050",
   "metadata": {},
   "source": [
    ">!! 本来我想在文件夹里做一个math.py 演示一下如果出现自定义模块覆盖内置模块的情况，结果发现jupyter无法链接内核了，也不知道是不是有相关，所以还是强烈提醒：不要轻易覆盖内置模块，不然会出现不可预估的问题！\n",
    "\n"
   ]
  },
  {
   "cell_type": "markdown",
   "id": "7d90b1af",
   "metadata": {},
   "source": [
    "## 进阶学习：循环导入"
   ]
  },
  {
   "cell_type": "markdown",
   "id": "645e8c84",
   "metadata": {},
   "source": [
    "你或许注意到，在各个ch.py 文件里，都导入了一个模块： `import random`，这是一个标准库内的模块，作用是随机选取列表里的内容。\n",
    "\n",
    "也就是说，模块里可以嵌套其他模块。\n",
    "\n",
    "当然，你也可以在模块里引入同一个包里的自定义模块，比如这样：\n",
    "\n",
    "ch1.py（在ch1里导入了ch5的内容）:\n",
    ">```\n",
    "># -*- coding: UTF-8 -*-\n",
    ">from cctv.ch5 import Emergency\n",
    ">import random\n",
    ">\n",
    ">#播放一个紧急新闻\n",
    ">def Breaking_News():\n",
    ">    Emergency()\n",
    ">\n",
    ">def TV_Schedule():\n",
    ">    shows = ['新闻联播','焦点访谈','天气预报','今日说法']\n",
    ">    print(\"cctv1现在正在播放的是：{}\".format(random.choice(shows)))\n",
    ">\n",
    ">def Host():\n",
    ">    hosts = ['撒贝宁','朱广权']\n",
    ">    return random.choice(hosts)\n",
    ">```\n",
    "\n",
    "\n",
    "但还有个问题，就是千万不能循环引入，比如ch1里引用了ch5的Emergency()方法，那ch5里千万不要引用ch1的方法:\n",
    "\n",
    "ch5.py（在ch5里导入了ch1的内容）:\n",
    "\n",
    ">```\n",
    "># -*- coding: UTF-8 -*-\n",
    ">from cctv.ch1 import Host\n",
    ">import random\n",
    ">\n",
    ">#处理一个紧急事件\n",
    ">def Emergency():\n",
    ">    print('这里是cctv5，现在由{}为大家插播一条紧急新闻'.format(Host()))\n",
    ">\n",
    ">def TV_Schedule():\n",
    ">    shows = ['2022世界杯','体坛快讯','奥林匹克','NBA']\n",
    ">    print(\"cctv5现在正在播放的是：{}\".format(random.choice(shows)))\n",
    ">```\n",
    "\n",
    "\n",
    "如果ch5里又导入了ch1的Host()方法，那可能不是你想要的结果。"
   ]
  },
  {
   "cell_type": "code",
   "execution_count": null,
   "id": "b800edfa",
   "metadata": {},
   "outputs": [],
   "source": [
    "from cctv.ch1 import Breaking_News\n",
    "Breaking_News()"
   ]
  },
  {
   "cell_type": "markdown",
   "id": "a765f370",
   "metadata": {},
   "source": [
    "当你执行后，你会发现错误\n",
    ">ImportError: cannot import name 'Host' from partially initialized module 'cctv.ch1' (most likely due to a circular import) \n",
    "\n",
    "这就是循环导入的错误。\n",
    "\n",
    "那么如何避免呢？"
   ]
  },
  {
   "cell_type": "markdown",
   "id": "36518474",
   "metadata": {},
   "source": [
    "首先解释一下```我综合理解的```import 的原理\n",
    "\n",
    "其实import的作用就是把我们指定的部分先执行一遍。\n",
    "\n",
    "import执行过程当我们import一个文件时，python会首先去查找这个文件之前是否被import过，如果这个文件之前有被import过，就不会重新再import一次。所以如果第一次只import了ch1模块里的Breaking_News方法，然后代码里又import了ch5模块，并且ch5模块里又import了ch1里的Host()，python的执行顺序会变成这样：\n",
    "\n",
    "- 开始导入模块ch1中的Emergency代码\n",
    "- 当ch1执行到import ch5的地方，则转而开始执行ch5模块的代码\n",
    "- 当ch5模块从头执行到`from cctv.ch1 import Host`的地方时，python发现这个文件之前已经import过，并且只import了`Emergency`，便不再重复再读取ch1模块了\n",
    "\n",
    "所以也就出现了我们上面看到的错误\n"
   ]
  },
  {
   "cell_type": "markdown",
   "id": "e2e992e2",
   "metadata": {},
   "source": [
    "解决的方法1是抛弃这种架构，重新设计代码；\n",
    "\n",
    "还有一种就是不精确导入方法，而是直接导入模块名。（我理解是虽然不会再重复读取ch1，但第一次读取的时候已经包含了Host(),所以也不会报错了）\n",
    "\n",
    "我用这种直接导入的方法重写了 new_ch1，new_ch5。"
   ]
  },
  {
   "cell_type": "code",
   "execution_count": null,
   "id": "437f2875",
   "metadata": {},
   "outputs": [],
   "source": [
    "import cctv.new_ch1\n",
    "cctv.new_ch1.Breaking_News()"
   ]
  },
  {
   "cell_type": "markdown",
   "id": "efdd77c8",
   "metadata": {},
   "source": [
    "最后，还有一种方法，就是使用延迟导入(lazy import)\n",
    "\n",
    "具体的如何实现，作为习题留个大家吧。\n",
    "\n",
    ">提醒:如果在jupyter里做测试，记得每次重新import前，重启一下python内核，不然会一直加载缓存里的模块和包，不会加载到你的修改内容"
   ]
  },
  {
   "cell_type": "markdown",
   "id": "50a1717f",
   "metadata": {},
   "source": [
    "包和模块的导入很简单，也是必须要掌握的知识\n",
    "\n",
    "后续我们会大量用到第三方模块作为例子，来让python为我们做更多的工作\n",
    "\n"
   ]
  }
 ],
 "metadata": {
  "kernelspec": {
   "display_name": "Python 3 (ipykernel)",
   "language": "python",
   "name": "python3"
  },
  "language_info": {
   "codemirror_mode": {
    "name": "ipython",
    "version": 3
   },
   "file_extension": ".py",
   "mimetype": "text/x-python",
   "name": "python",
   "nbconvert_exporter": "python",
   "pygments_lexer": "ipython3",
   "version": "3.9.7"
  }
 },
 "nbformat": 4,
 "nbformat_minor": 5
}
